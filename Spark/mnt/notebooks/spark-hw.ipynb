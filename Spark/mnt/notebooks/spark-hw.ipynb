{
 "cells": [
  {
   "cell_type": "markdown",
   "id": "6fc4f376",
   "metadata": {},
   "source": [
    "<div align=\"right\" dir=\"auto\">\n",
    "   \n",
    "#  دیتاست اول(COVID)\n",
    " </div>\n",
    "  "
   ]
  },
  {
   "cell_type": "markdown",
   "id": "f431c303",
   "metadata": {},
   "source": [
    "\n",
    "<div align=\"right\" dir=\"auto\">\n",
    "   \n",
    "##  اتصال به کلاستر اسپارک و هدوپ \n",
    "\n",
    "    در این قسمت از تمرین باید به عنوان درایور یک سسشن  به کلاستر اسپارک بسازیم.\n",
    " </div>\n",
    "  \n",
    "* **appName**: application name displayed at the Spark Master Web UI;\n",
    "* **master**: Spark Master URL, same used by Spark Workers;\n",
    "* **spark.executor.memory**: must be less than or equals to docker compose SPARK_WORKER_MEMORY config."
   ]
  },
  {
   "cell_type": "code",
   "execution_count": 4,
   "id": "1945c4bc",
   "metadata": {},
   "outputs": [
    {
     "name": "stdout",
     "output_type": "stream",
     "text": [
      "Requirement already satisfied: matplotlib in /usr/local/lib/python3.8/dist-packages (3.7.4)\n",
      "Requirement already satisfied: contourpy>=1.0.1 in /usr/local/lib/python3.8/dist-packages (from matplotlib) (1.1.1)\n",
      "Requirement already satisfied: cycler>=0.10 in /usr/local/lib/python3.8/dist-packages (from matplotlib) (0.12.1)\n",
      "Requirement already satisfied: fonttools>=4.22.0 in /usr/local/lib/python3.8/dist-packages (from matplotlib) (4.47.0)\n",
      "Requirement already satisfied: kiwisolver>=1.0.1 in /usr/local/lib/python3.8/dist-packages (from matplotlib) (1.4.5)\n",
      "Requirement already satisfied: numpy<2,>=1.20 in /usr/local/lib/python3.8/dist-packages (from matplotlib) (1.24.4)\n",
      "Requirement already satisfied: packaging>=20.0 in /usr/local/lib/python3.8/dist-packages (from matplotlib) (23.2)\n",
      "Requirement already satisfied: pillow>=6.2.0 in /usr/local/lib/python3.8/dist-packages (from matplotlib) (10.2.0)\n",
      "Requirement already satisfied: pyparsing>=2.3.1 in /usr/local/lib/python3.8/dist-packages (from matplotlib) (3.1.1)\n",
      "Requirement already satisfied: python-dateutil>=2.7 in /usr/local/lib/python3.8/dist-packages (from matplotlib) (2.8.2)\n",
      "Requirement already satisfied: importlib-resources>=3.2.0 in /usr/local/lib/python3.8/dist-packages (from matplotlib) (6.1.1)\n",
      "Requirement already satisfied: zipp>=3.1.0 in /usr/local/lib/python3.8/dist-packages (from importlib-resources>=3.2.0->matplotlib) (3.17.0)\n",
      "Requirement already satisfied: six>=1.5 in /usr/lib/python3/dist-packages (from python-dateutil>=2.7->matplotlib) (1.14.0)\n",
      "\u001b[33mWARNING: Running pip as the 'root' user can result in broken permissions and conflicting behaviour with the system package manager. It is recommended to use a virtual environment instead: https://pip.pypa.io/warnings/venv\u001b[0m\u001b[33m\n",
      "\u001b[0mNote: you may need to restart the kernel to use updated packages.\n"
     ]
    }
   ],
   "source": [
    "pip install matplotlib"
   ]
  },
  {
   "cell_type": "code",
   "execution_count": 5,
   "id": "7f96b0ea",
   "metadata": {},
   "outputs": [],
   "source": [
    "import pyspark\n",
    "from pyspark.sql import SparkSession, functions\n",
    "\n",
    "import os\n",
    "import pandas\n",
    "from pyspark.sql.types import *\n",
    "import matplotlib.pyplot as plt"
   ]
  },
  {
   "cell_type": "code",
   "execution_count": 6,
   "id": "05d2afde",
   "metadata": {},
   "outputs": [
    {
     "data": {
      "text/html": [
       "\n",
       "            <div>\n",
       "                <p><b>SparkSession - in-memory</b></p>\n",
       "                \n",
       "        <div>\n",
       "            <p><b>SparkContext</b></p>\n",
       "\n",
       "            <p><a href=\"http://463ac4d05feb:4040\">Spark UI</a></p>\n",
       "\n",
       "            <dl>\n",
       "              <dt>Version</dt>\n",
       "                <dd><code>v3.1.1</code></dd>\n",
       "              <dt>Master</dt>\n",
       "                <dd><code>spark://spark-master:7077</code></dd>\n",
       "              <dt>AppName</dt>\n",
       "                <dd><code>spark-notebook-1</code></dd>\n",
       "            </dl>\n",
       "        </div>\n",
       "        \n",
       "            </div>\n",
       "        "
      ],
      "text/plain": [
       "<pyspark.sql.session.SparkSession at 0x7fa663dc6df0>"
      ]
     },
     "execution_count": 6,
     "metadata": {},
     "output_type": "execute_result"
    }
   ],
   "source": [
    "spark = SparkSession.builder.appName('spark-notebook-1').master('spark://spark-master:7077').config('spark.executor.memmory', '2G').getOrCreate()\n",
    "spark"
   ]
  },
  {
   "cell_type": "markdown",
   "id": "aaced8e5",
   "metadata": {},
   "source": [
    "\n",
    "<div align=\"right\" dir=\"auto\">\n",
    "   \n",
    "#  خواندن داده \n",
    "\n",
    "    :در اسپارک ما ساختارهای مختلفی برای کار با داده و پخش شدن آن‌ها در شبکه داریم که به ۳ دسته تقسیم بندی میشوند \n",
    "+ RDD\n",
    "+ Dataset\n",
    "+ DataFrame\n",
    "    \n",
    "    \n",
    "     برای مطالعه بیشتر به لینک زیر مراجعه کنید:\n",
    "[rdd-vs-dataframe-vs-dataset](https://phoenixnap.com/kb/rdd-vs-dataframe-vs-dataset)\n",
    "\n",
    "    ما در درس با ساختار RDD آشنا شدیم حال در این تمرین میخواهیم با ساختار Dataframe آشنا شویم و به کمک آن دیتا را از روی HDFS بخوانیم و روی آن فایل‌ها پردازش انجام دهیم\n",
    " \n",
    " </div>\n",
    "  \n",
    "    "
   ]
  },
  {
   "cell_type": "code",
   "execution_count": 7,
   "id": "098e7185",
   "metadata": {},
   "outputs": [
    {
     "name": "stdout",
     "output_type": "stream",
     "text": [
      "Loading data from csv ./data/covid.csv\n",
      "Loading data from csv ./data/.ipynb_checkpoints/covid-checkpoint.csv\n"
     ]
    }
   ],
   "source": [
    "# The data from covid.csv will be loaded from a local file path\n",
    "for path, subdirs, files in os.walk('./data/'):\n",
    "    for name in files:\n",
    "        if \"covid\" in name:\n",
    "            csvName = name\n",
    "            csvPath = os.path.join(path, name)\n",
    "            print(\"Loading data from csv {}\".format(csvPath))\n",
    "            covidDfPandas = pandas.read_csv(csvPath)"
   ]
  },
  {
   "cell_type": "code",
   "execution_count": 8,
   "id": "6a31a0a0",
   "metadata": {},
   "outputs": [],
   "source": [
    "# Structure of data in the DataFrame\n",
    "schema = StructType([\n",
    "    StructField(\"dateRep\", StringType(), True),\n",
    "    StructField(\"day\", IntegerType(), True),\n",
    "    StructField(\"month\", IntegerType(), True),\n",
    "    StructField(\"year\", IntegerType(), True),\n",
    "    StructField(\"cases\", IntegerType(), True),\n",
    "    StructField(\"deaths\", IntegerType(), True),\n",
    "    StructField(\"countriesAndTerritories\", StringType(), True),\n",
    "    StructField(\"geoId\", StringType(), True),\n",
    "    StructField(\"countryterritoryCode\", StringType(), True),\n",
    "    StructField(\"popData2019\", FloatType(), True),\n",
    "    StructField(\"continentExp\", StringType(), True),\n",
    "    StructField(\"Cumulative_number_for_14_days_of_COVID-19_cases_per_100000\", DoubleType(), True),\n",
    "])"
   ]
  },
  {
   "cell_type": "markdown",
   "id": "543d4d2c",
   "metadata": {},
   "source": [
    "\n",
    "<div align=\"right\" dir=\"auto\">\n",
    "یک DataFrame از Pandas را به یک DataFrame از Spark تبدیل کنید و سپس طرح ساختاری و برخی از داده‌ها را نمایش دهید.\n",
    " </div>\n",
    "  \n",
    "    \n",
    "\n",
    "\n"
   ]
  },
  {
   "cell_type": "code",
   "execution_count": 9,
   "id": "889a09c6",
   "metadata": {},
   "outputs": [
    {
     "name": "stdout",
     "output_type": "stream",
     "text": [
      "root\n",
      " |-- dateRep: string (nullable = true)\n",
      " |-- day: integer (nullable = true)\n",
      " |-- month: integer (nullable = true)\n",
      " |-- year: integer (nullable = true)\n",
      " |-- cases: integer (nullable = true)\n",
      " |-- deaths: integer (nullable = true)\n",
      " |-- countriesAndTerritories: string (nullable = true)\n",
      " |-- geoId: string (nullable = true)\n",
      " |-- countryterritoryCode: string (nullable = true)\n",
      " |-- popData2019: float (nullable = true)\n",
      " |-- continentExp: string (nullable = true)\n",
      " |-- Cumulative_number_for_14_days_of_COVID-19_cases_per_100000: double (nullable = true)\n",
      "\n"
     ]
    }
   ],
   "source": [
    "# Convert Pandas DataFrame to Spark DataFrame with defined schema\n",
    "covidDfSpark = spark.createDataFrame(covidDfPandas.values.tolist(), schema=schema)\n",
    "\n",
    "# Show the DataFrame schema and some data\n",
    "covidDfSpark.printSchema()"
   ]
  },
  {
   "cell_type": "markdown",
   "id": "ccff9dbe",
   "metadata": {},
   "source": [
    "\n",
    "<div align=\"right\" dir=\"auto\">\n",
    "   \n",
    "#  اسپارک SQL \n",
    "\n",
    "    مهمترین قابلیت اسپارک این است که می‌تواند با خواندن فایل‌ها به صورت توزیع شده روی آن‌ها پردازش انجام دهد و این پردازش را برنامه ‌نویس میتواند با استفاده از دستورات SQL اعمال کند\n",
    "    در این بخش از شما انتظار می‌رود که به وسیله spark SQL  به اسپارک کوئری  بزنید . \n",
    "    \n",
    "    \n",
    " </div>\n",
    "\n",
    "[pyspark.sql.functions.col](https://spark.apache.org/docs/latest/api/python/reference/pyspark.sql/api/pyspark.sql.functions.col.html)\n",
    "\n",
    "[pyspark.sql.DataFrame.count](https://spark.apache.org/docs/latest/api/python/reference/pyspark.sql/api/pyspark.sql.DataFrame.count.html)\n",
    "\n",
    "[pyspark.sql.DataFrame.filter](https://spark.apache.org/docs/latest/api/python/reference/pyspark.sql/api/pyspark.sql.DataFrame.filter.html)\n",
    "\n",
    "[pyspark.sql.DataFrame.groupBy](https://spark.apache.org/docs/3.1.1/api/python/reference/api/pyspark.sql.DataFrame.groupBy.html)"
   ]
  },
  {
   "cell_type": "markdown",
   "id": "da92ecde",
   "metadata": {},
   "source": [
    "<div align=\"right\" dir=\"auto\">\n",
    "برای اینکه بتوانیم روی دیتای لود شده به وسیله تابع  spark.sql\n",
    "    کوئری‌های SQL بزنیم\n",
    "    باید دو دیتاست لود شده را به عنوان table\n",
    "    به spark \n",
    "    معرفی کنیم\n",
    "</div>"
   ]
  },
  {
   "cell_type": "code",
   "execution_count": 10,
   "id": "b99e2d5d",
   "metadata": {},
   "outputs": [],
   "source": [
    "covidDfSpark.registerTempTable(\"covid\")"
   ]
  },
  {
   "cell_type": "markdown",
   "id": "5ac3d00c",
   "metadata": {},
   "source": [
    "<div align=\"right\" dir=\"auto\">\n",
    " ده رکورد آخر را نمایش دهید\n",
    "</div>"
   ]
  },
  {
   "cell_type": "code",
   "execution_count": 12,
   "id": "a30b0403",
   "metadata": {},
   "outputs": [
    {
     "name": "stderr",
     "output_type": "stream",
     "text": [
      "2024-01-13 11:40:58,351 WARN scheduler.TaskSetManager: Stage 1 contains a task of very large size (1687 KiB). The maximum recommended task size is 1000 KiB.\n",
      "                                                                                \r"
     ]
    },
    {
     "name": "stdout",
     "output_type": "stream",
     "text": [
      "+----------+---+-----+----+-----+------+-----------------------+-----+--------------------+-----------+------------+----------------------------------------------------------+\n",
      "|   dateRep|day|month|year|cases|deaths|countriesAndTerritories|geoId|countryterritoryCode|popData2019|continentExp|Cumulative_number_for_14_days_of_COVID-19_cases_per_100000|\n",
      "+----------+---+-----+----+-----+------+-----------------------+-----+--------------------+-----------+------------+----------------------------------------------------------+\n",
      "|30/03/2020| 30|    3|2020|    0|     0|               Zimbabwe|   ZW|                 ZWE|1.4645473E7|      Africa|                                                       NaN|\n",
      "|29/03/2020| 29|    3|2020|    2|     0|               Zimbabwe|   ZW|                 ZWE|1.4645473E7|      Africa|                                                       NaN|\n",
      "|28/03/2020| 28|    3|2020|    2|     0|               Zimbabwe|   ZW|                 ZWE|1.4645473E7|      Africa|                                                       NaN|\n",
      "|27/03/2020| 27|    3|2020|    0|     0|               Zimbabwe|   ZW|                 ZWE|1.4645473E7|      Africa|                                                       NaN|\n",
      "|26/03/2020| 26|    3|2020|    1|     0|               Zimbabwe|   ZW|                 ZWE|1.4645473E7|      Africa|                                                       NaN|\n",
      "|25/03/2020| 25|    3|2020|    0|     0|               Zimbabwe|   ZW|                 ZWE|1.4645473E7|      Africa|                                                       NaN|\n",
      "|24/03/2020| 24|    3|2020|    0|     1|               Zimbabwe|   ZW|                 ZWE|1.4645473E7|      Africa|                                                       NaN|\n",
      "|23/03/2020| 23|    3|2020|    0|     0|               Zimbabwe|   ZW|                 ZWE|1.4645473E7|      Africa|                                                       NaN|\n",
      "|22/03/2020| 22|    3|2020|    1|     0|               Zimbabwe|   ZW|                 ZWE|1.4645473E7|      Africa|                                                       NaN|\n",
      "|21/03/2020| 21|    3|2020|    1|     0|               Zimbabwe|   ZW|                 ZWE|1.4645473E7|      Africa|                                                       NaN|\n",
      "+----------+---+-----+----+-----+------+-----------------------+-----+--------------------+-----------+------------+----------------------------------------------------------+\n",
      "\n"
     ]
    }
   ],
   "source": [
    "# to-do\n",
    "spark.createDataFrame(covidDfSpark.tail(10)).show()"
   ]
  },
  {
   "cell_type": "markdown",
   "id": "f852d3e5",
   "metadata": {},
   "source": [
    "<div align=\"right\" dir=\"auto\">\n",
    "اسکیما یا ساختار دیتاست ها را نمایش دهید\n",
    "\n",
    "</div>"
   ]
  },
  {
   "cell_type": "code",
   "execution_count": 30,
   "id": "56d13e98",
   "metadata": {},
   "outputs": [
    {
     "name": "stdout",
     "output_type": "stream",
     "text": [
      "+--------------------------------+---------------+----------+\n",
      "|                        col_name|data_type      |comment   |\n",
      "+--------------------------------+---------------+----------+\n",
      "|dateRep                         | StringType     |null      \n",
      "|day                             | IntegerType    |null      \n",
      "|month                           | IntegerType    |null      \n",
      "|year                            | IntegerType    |null      \n",
      "|cases                           | IntegerType    |null      \n",
      "|deaths                          | IntegerType    |null      \n",
      "|countriesAndTerritories         | StringType     |null      \n",
      "|geoId                           | StringType     |null      \n",
      "|countryterritoryCode            | StringType     |null      \n",
      "|popData2019                     | FloatType      |null      \n",
      "|continentExp                    | StringType     |null      \n",
      "|Cumulative_number_for_14_days...| DoubleType     |null      \n",
      "+--------------------------------+---------------+----------+\n"
     ]
    }
   ],
   "source": [
    "# to-do\n",
    "print(\"+--------------------------------+---------------+----------+\")\n",
    "print(\"|                        col_name|data_type      |comment   |\")\n",
    "print(\"+--------------------------------+---------------+----------+\")\n",
    "for field in covidDfSpark.schema.fields:\n",
    "    if len(field.name) > 32:\n",
    "        field_name = field.name[:29] + '...'\n",
    "    else:\n",
    "        field_name = field.name\n",
    "    print(f\"|{field_name:<32}| {str(field.dataType):<15}|null      \")\n",
    "print(\"+--------------------------------+---------------+----------+\")"
   ]
  },
  {
   "cell_type": "code",
   "execution_count": 31,
   "id": "993c794b",
   "metadata": {},
   "outputs": [
    {
     "name": "stdout",
     "output_type": "stream",
     "text": [
      "root\n",
      " |-- dateRep: string (nullable = true)\n",
      " |-- day: integer (nullable = true)\n",
      " |-- month: integer (nullable = true)\n",
      " |-- year: integer (nullable = true)\n",
      " |-- cases: integer (nullable = true)\n",
      " |-- deaths: integer (nullable = true)\n",
      " |-- countriesAndTerritories: string (nullable = true)\n",
      " |-- geoId: string (nullable = true)\n",
      " |-- countryterritoryCode: string (nullable = true)\n",
      " |-- popData2019: float (nullable = true)\n",
      " |-- continentExp: string (nullable = true)\n",
      " |-- Cumulative_number_for_14_days_of_COVID-19_cases_per_100000: double (nullable = true)\n",
      "\n"
     ]
    }
   ],
   "source": [
    "covidDfSpark.printSchema()"
   ]
  },
  {
   "cell_type": "markdown",
   "id": "b7f9db4a",
   "metadata": {},
   "source": [
    "<div align=\"right\" dir=\"auto\">\n",
    "داده‌های مربوط به ستون   countryterritoryCode ,deaths را پرینت کنید(۱۰تا) \n",
    "\n",
    "</div>"
   ]
  },
  {
   "cell_type": "code",
   "execution_count": 33,
   "id": "9f07b666",
   "metadata": {},
   "outputs": [
    {
     "name": "stdout",
     "output_type": "stream",
     "text": [
      "+------+--------------------+\n",
      "|deaths|countryterritoryCode|\n",
      "+------+--------------------+\n",
      "|     6|                 AFG|\n",
      "|     9|                 AFG|\n",
      "|    11|                 AFG|\n",
      "|    10|                 AFG|\n",
      "|    16|                 AFG|\n",
      "|    13|                 AFG|\n",
      "|     6|                 AFG|\n",
      "|    26|                 AFG|\n",
      "|    10|                 AFG|\n",
      "|    18|                 AFG|\n",
      "+------+--------------------+\n",
      "only showing top 10 rows\n",
      "\n"
     ]
    },
    {
     "name": "stderr",
     "output_type": "stream",
     "text": [
      "2024-01-13 11:48:34,064 WARN scheduler.TaskSetManager: Stage 4 contains a task of very large size (1650 KiB). The maximum recommended task size is 1000 KiB.\n"
     ]
    }
   ],
   "source": [
    "# to-do\n",
    "covidDfSpark.select(covidDfSpark.deaths, covidDfSpark.countryterritoryCode).show(10)\n",
    "\n",
    "# We can also do this\n",
    "# selected_cols = [col for col in covidDfSpark.columns if col == \"deaths\" or col == \"countryterritoryCode\"]\n",
    "# covidDfSpark.select(selected_cols).show(10)"
   ]
  },
  {
   "cell_type": "markdown",
   "id": "255f0fe7",
   "metadata": {},
   "source": [
    "<div align=\"right\" dir=\"auto\">\n",
    "تعداد کل موارد Covid برابر است با?\n",
    "</div>"
   ]
  },
  {
   "cell_type": "code",
   "execution_count": 34,
   "id": "92c03208",
   "metadata": {},
   "outputs": [
    {
     "name": "stderr",
     "output_type": "stream",
     "text": [
      "2024-01-13 11:48:41,886 WARN scheduler.TaskSetManager: Stage 5 contains a task of very large size (1650 KiB). The maximum recommended task size is 1000 KiB.\n"
     ]
    },
    {
     "name": "stdout",
     "output_type": "stream",
     "text": [
      "+----------+\n",
      "|sum(cases)|\n",
      "+----------+\n",
      "|  71503614|\n",
      "+----------+\n",
      "\n"
     ]
    }
   ],
   "source": [
    "# to-do\n",
    "covidDfSpark.select(functions.sum(covidDfSpark[\"cases\"])).show()\n",
    "\n",
    "# We can also do this\n",
    "# spark.sql(\"select sum(cases) as TotalCases from covid\").show()\n",
    "\n",
    "\n",
    "# print(f\"Number of all Covid is {covidDfSpark.count()}\")"
   ]
  },
  {
   "cell_type": "markdown",
   "id": "4b555e61",
   "metadata": {},
   "source": [
    "<div align=\"right\" dir=\"auto\">\n",
    "مجموع موارد کروناویروس در اکتبر ۲۰۲۰ در بلژیک را به دست آورید.\n",
    "</div>\n",
    "\n"
   ]
  },
  {
   "cell_type": "code",
   "execution_count": 35,
   "id": "1332884d",
   "metadata": {},
   "outputs": [
    {
     "name": "stderr",
     "output_type": "stream",
     "text": [
      "2024-01-13 11:48:54,168 WARN scheduler.TaskSetManager: Stage 7 contains a task of very large size (1650 KiB). The maximum recommended task size is 1000 KiB.\n"
     ]
    },
    {
     "name": "stdout",
     "output_type": "stream",
     "text": [
      "+----------+\n",
      "|TotalCases|\n",
      "+----------+\n",
      "|    320023|\n",
      "+----------+\n",
      "\n"
     ]
    }
   ],
   "source": [
    "# to-do\n",
    "covidDfSpark.filter((covidDfSpark[\"month\"] == 10) & (covidDfSpark[\"year\"] == 2020) & (covidDfSpark[\"countriesAndTerritories\"] == \"Belgium\")).agg(functions.sum(\"cases\").alias(\"TotalCases\")).show()\n",
    "# covidDfSpark.filter((covidDfSpark.month == 10) & (covidDfSpark.year == 2020) & (covidDfSpark.countriesAndTerritories == \"Belgium\")).agg(functions.sum(\"cases\").alias(\"TotalCases\")).show()"
   ]
  },
  {
   "cell_type": "markdown",
   "id": "4a17c156",
   "metadata": {},
   "source": [
    "\n",
    "<div align=\"right\" dir=\"auto\">\n",
    "جمع تعداد موارد و مرگ‌ها در کشورهای آسیا به دست آورید.\n",
    " \n",
    " </div>\n"
   ]
  },
  {
   "cell_type": "code",
   "execution_count": 36,
   "id": "a6a5c598",
   "metadata": {},
   "outputs": [
    {
     "name": "stderr",
     "output_type": "stream",
     "text": [
      "2024-01-13 11:49:00,577 WARN scheduler.TaskSetManager: Stage 9 contains a task of very large size (1650 KiB). The maximum recommended task size is 1000 KiB.\n",
      "[Stage 16:=====================================================>  (89 + 2) / 94]\r"
     ]
    },
    {
     "name": "stdout",
     "output_type": "stream",
     "text": [
      "+-----------------------+----------+-----------+\n",
      "|countriesAndTerritories|TotalCases|TotalDeaths|\n",
      "+-----------------------+----------+-----------+\n",
      "|                  Yemen|      2083|        606|\n",
      "|            Timor_Leste|        31|          0|\n",
      "|            Philippines|    449400|       8733|\n",
      "|               Malaysia|     83475|        415|\n",
      "|              Singapore|     58320|         29|\n",
      "|                   Iraq|    574634|      12579|\n",
      "|            Afghanistan|     49273|       1971|\n",
      "|               Cambodia|       359|          0|\n",
      "|               Maldives|     13368|         48|\n",
      "|                 Jordan|    259614|       3365|\n",
      "|                 Taiwan|       740|          7|\n",
      "|                  Qatar|    140961|        240|\n",
      "|                Myanmar|    108342|       2268|\n",
      "|                  China|     92021|       4739|\n",
      "|                  India|   9884100|     143355|\n",
      "|                 Kuwait|    146218|        911|\n",
      "|             Tajikistan|     12704|         88|\n",
      "|      Brunei_Darussalam|       152|          3|\n",
      "|              Sri_Lanka|     32790|        152|\n",
      "|            South_Korea|     43484|        587|\n",
      "+-----------------------+----------+-----------+\n",
      "only showing top 20 rows\n",
      "\n"
     ]
    },
    {
     "name": "stderr",
     "output_type": "stream",
     "text": [
      "                                                                                \r"
     ]
    }
   ],
   "source": [
    "# to-do\n",
    "asian_countries_data = covidDfSpark.filter(covidDfSpark.continentExp == \"Asia\")\n",
    "\n",
    "asian_countries_data.groupBy(\"countriesAndTerritories\").agg(functions.sum(\"cases\").alias(\"TotalCases\"), functions.sum(\"deaths\").alias(\"TotalDeaths\")).show()"
   ]
  },
  {
   "cell_type": "markdown",
   "id": "b8ab4642",
   "metadata": {},
   "source": [
    "\n",
    "<div align=\"right\" dir=\"auto\">\n",
    "میانگین تعداد موارد و مرگ‌ها در کشورهای آسیا به دست آورید.\n",
    " \n",
    " </div>\n"
   ]
  },
  {
   "cell_type": "code",
   "execution_count": 37,
   "id": "064b5376",
   "metadata": {},
   "outputs": [
    {
     "name": "stderr",
     "output_type": "stream",
     "text": [
      "2024-01-13 11:49:11,040 WARN scheduler.TaskSetManager: Stage 17 contains a task of very large size (1650 KiB). The maximum recommended task size is 1000 KiB.\n",
      "[Stage 24:====================================================>   (88 + 2) / 94]\r"
     ]
    },
    {
     "name": "stdout",
     "output_type": "stream",
     "text": [
      "+-----------------------+-------------------+--------------------+\n",
      "|countriesAndTerritories|   Average of cases|   Average of deaths|\n",
      "+-----------------------+-------------------+--------------------+\n",
      "|                  Yemen|  8.365461847389557|   2.433734939759036|\n",
      "|            Timor_Leste|0.11567164179104478|                 0.0|\n",
      "|            Philippines| 1298.8439306358382|  25.239884393063583|\n",
      "|               Malaysia| 239.18338108882523|   1.189111747851003|\n",
      "|              Singapore| 166.62857142857143| 0.08285714285714285|\n",
      "|                   Iraq| 1651.2471264367816|   36.14655172413793|\n",
      "|            Afghanistan|  144.9205882352941|   5.797058823529412|\n",
      "|               Cambodia| 1.0527859237536656|                 0.0|\n",
      "|               Maldives|  47.74285714285714| 0.17142857142857143|\n",
      "|                 Jordan|  937.2346570397112|  12.148014440433213|\n",
      "|                 Taiwan| 2.1142857142857143|                0.02|\n",
      "|                  Qatar|  407.4017341040462|  0.6936416184971098|\n",
      "|                Myanmar|  405.7752808988764|    8.49438202247191|\n",
      "|                  China| 262.91714285714284|               13.54|\n",
      "|                  India| 28321.203438395416|  410.75931232091693|\n",
      "|                 Kuwait| 421.37752161383287|  2.6253602305475505|\n",
      "|             Tajikistan| 55.719298245614034| 0.38596491228070173|\n",
      "|      Brunei_Darussalam| 0.5448028673835126|0.010752688172043012|\n",
      "|              Sri_Lanka|    96.158357771261| 0.44574780058651026|\n",
      "|            South_Korea|             124.24|   1.677142857142857|\n",
      "+-----------------------+-------------------+--------------------+\n",
      "only showing top 20 rows\n",
      "\n"
     ]
    },
    {
     "name": "stderr",
     "output_type": "stream",
     "text": [
      "                                                                                \r"
     ]
    }
   ],
   "source": [
    "# to-do\n",
    "asian_countries_data = covidDfSpark.filter(covidDfSpark.continentExp == \"Asia\")\n",
    "\n",
    "asian_countries_data.groupBy(\"countriesAndTerritories\").agg(functions.avg(\"cases\").alias(\"Average of cases\"), functions.avg(\"deaths\").alias(\"Average of deaths\")).show()"
   ]
  },
  {
   "cell_type": "markdown",
   "id": "d5d3c152",
   "metadata": {},
   "source": [
    "\n",
    "<div align=\"right\" dir=\"auto\">\n",
    "جمع مرگ‌های کووید در اروپا بر اساس تاریخ به دست آورید.\n",
    " \n",
    " </div>"
   ]
  },
  {
   "cell_type": "code",
   "execution_count": 38,
   "id": "ea2ec96d",
   "metadata": {},
   "outputs": [
    {
     "name": "stderr",
     "output_type": "stream",
     "text": [
      "2024-01-13 11:49:22,017 WARN scheduler.TaskSetManager: Stage 25 contains a task of very large size (1650 KiB). The maximum recommended task size is 1000 KiB.\n"
     ]
    },
    {
     "name": "stdout",
     "output_type": "stream",
     "text": [
      "+----------+--------------------------------+\n",
      "|   dateRep|Sum of deaths of Covid in Europe|\n",
      "+----------+--------------------------------+\n",
      "|04/12/2020|                            5716|\n",
      "|05/11/2020|                            4051|\n",
      "|23/11/2020|                            3515|\n",
      "|02/11/2020|                            2419|\n",
      "|28/03/2020|                            2809|\n",
      "|19/01/2020|                               0|\n",
      "|25/02/2020|                               4|\n",
      "|04/01/2020|                               0|\n",
      "|07/03/2020|                              55|\n",
      "|08/11/2020|                            3332|\n",
      "|15/01/2020|                               0|\n",
      "|13/02/2020|                               0|\n",
      "|18/01/2020|                               0|\n",
      "|01/03/2020|                               8|\n",
      "|06/01/2020|                               0|\n",
      "|17/08/2020|                             270|\n",
      "|05/07/2020|                             372|\n",
      "|24/08/2020|                             276|\n",
      "|04/08/2020|                             270|\n",
      "|07/02/2020|                               0|\n",
      "+----------+--------------------------------+\n",
      "only showing top 20 rows\n",
      "\n"
     ]
    }
   ],
   "source": [
    "# to-do\n",
    "europen_countries_data = covidDfSpark.filter(covidDfSpark.continentExp == \"Europe\")\n",
    "\n",
    "europen_countries_data.groupBy(\"dateRep\").agg(functions.sum(\"deaths\").alias(\"Sum of deaths of Covid in Europe\")).show()"
   ]
  },
  {
   "cell_type": "markdown",
   "id": "e0c5bbf3",
   "metadata": {},
   "source": [
    "\n",
    "<div align=\"right\" dir=\"auto\">\n",
    "   \n",
    "#  اسپارک toPandas \n",
    "\n",
    "    یکی ار قابلیت‌های اسپارک این است که می‌توان dataframe های آن را به \n",
    "    dataframe های pandas تبدیل کند و از توابع آن از جمله\n",
    "    توابع plot  آن برای رسم نمودار استفاده کرد.\n",
    "    در این قسمت از شما انتظار می‌رود نمودار تعداد جنگ‌ها بر اساس هر گونه را رسم کنید.\n",
    "    \n",
    " </div>\n",
    "  \n",
    "    \n",
    "\n",
    "  \n",
    "[pyspark.sql.DataFrame.toPandas](https://spark.apache.org/docs/latest/api/python/reference/pyspark.sql/api/pyspark.sql.DataFrame.toPandas.html)\n",
    "\n",
    "[pyspark.pandas.DataFrame.plot](https://spark.apache.org/docs/3.2.1/api/python/reference/pyspark.pandas/api/pyspark.pandas.DataFrame.plot.html)\n"
   ]
  },
  {
   "cell_type": "markdown",
   "id": "5f3444f1",
   "metadata": {},
   "source": [
    "\n",
    "<div align=\"right\" dir=\"auto\">\n",
    "جمع موارد و مرگ‌ها برای هر قاره را به دست آورید.\n",
    " \n",
    " </div>"
   ]
  },
  {
   "cell_type": "code",
   "execution_count": 39,
   "id": "815172df",
   "metadata": {},
   "outputs": [
    {
     "name": "stderr",
     "output_type": "stream",
     "text": [
      "2024-01-13 11:49:29,510 WARN scheduler.TaskSetManager: Stage 31 contains a task of very large size (1650 KiB). The maximum recommended task size is 1000 KiB.\n"
     ]
    },
    {
     "name": "stdout",
     "output_type": "stream",
     "text": [
      "+------------+------+\n",
      "|continentExp| count|\n",
      "+------------+------+\n",
      "|      Europe|479789|\n",
      "|      Africa| 56334|\n",
      "|       Other|     7|\n",
      "|     Oceania|  1154|\n",
      "|        Asia|290129|\n",
      "|     America|785420|\n",
      "+------------+------+\n",
      "\n"
     ]
    },
    {
     "name": "stderr",
     "output_type": "stream",
     "text": [
      "2024-01-13 11:49:31,079 WARN scheduler.TaskSetManager: Stage 41 contains a task of very large size (1650 KiB). The maximum recommended task size is 1000 KiB.\n",
      "                                                                                \r"
     ]
    },
    {
     "data": {
      "text/plain": [
       "<Axes: xlabel='continentExp'>"
      ]
     },
     "execution_count": 39,
     "metadata": {},
     "output_type": "execute_result"
    },
    {
     "data": {
      "image/png": "[encoded data removed]",
      "text/plain": [
       "<Figure size 640x480 with 1 Axes>"
      ]
     },
     "metadata": {},
     "output_type": "display_data"
    }
   ],
   "source": [
    "# to-do\n",
    "deaths_continents = covidDfSpark.groupBy(\"continentExp\").agg(functions.sum(\"deaths\").alias(\"count\"))\n",
    "\n",
    "deaths_continents.show()\n",
    "deaths_continents.toPandas().plot.bar(x=\"continentExp\", y=\"count\")"
   ]
  },
  {
   "cell_type": "markdown",
   "id": "b9c0d747",
   "metadata": {},
   "source": [
    "<div align=\"right\" dir=\"auto\">\n",
    "نمودار مبتلایان در طور زمان را برای کشور ایران را بنویسید. \n",
    "    \n",
    " </div>\n",
    "  "
   ]
  },
  {
   "cell_type": "code",
   "execution_count": 48,
   "id": "bff43414",
   "metadata": {},
   "outputs": [
    {
     "name": "stderr",
     "output_type": "stream",
     "text": [
      "2024-01-13 12:01:43,409 WARN scheduler.TaskSetManager: Stage 78 contains a task of very large size (1650 KiB). The maximum recommended task size is 1000 KiB.\n",
      "                                                                                \r"
     ]
    },
    {
     "ename": "TypeError",
     "evalue": "scatter() missing 2 required positional arguments: 'x' and 'y'",
     "output_type": "error",
     "traceback": [
      "\u001b[0;31m---------------------------------------------------------------------------\u001b[0m",
      "\u001b[0;31mTypeError\u001b[0m                                 Traceback (most recent call last)",
      "Cell \u001b[0;32mIn[48], line 13\u001b[0m\n\u001b[1;32m     11\u001b[0m pd\u001b[38;5;241m.\u001b[39mplot\u001b[38;5;241m.\u001b[39mscatter(x\u001b[38;5;241m=\u001b[39m\u001b[38;5;124m'\u001b[39m\u001b[38;5;124mdateRep\u001b[39m\u001b[38;5;124m'\u001b[39m, y\u001b[38;5;241m=\u001b[39m\u001b[38;5;124m'\u001b[39m\u001b[38;5;124mNumber of Cases\u001b[39m\u001b[38;5;124m'\u001b[39m)\n\u001b[1;32m     12\u001b[0m plt\u001b[38;5;241m.\u001b[39mxticks(rotation\u001b[38;5;241m=\u001b[39m\u001b[38;5;241m45\u001b[39m)\n\u001b[0;32m---> 13\u001b[0m \u001b[43mplt\u001b[49m\u001b[38;5;241;43m.\u001b[39;49m\u001b[43mscatter\u001b[49m\u001b[43m(\u001b[49m\u001b[43m)\u001b[49m\n",
      "\u001b[0;31mTypeError\u001b[0m: scatter() missing 2 required positional arguments: 'x' and 'y'"
     ]
    },
    {
     "data": {
      "image/png": "[encoded data removed]",
      "text/plain": [
       "<Figure size 640x480 with 1 Axes>"
      ]
     },
     "metadata": {},
     "output_type": "display_data"
    }
   ],
   "source": [
    "# to-do \n",
    "# iran_data = covidDfSpark.filter(covidDfSpark.countriesAndTerritories == \"Iran\").groupBy(\"dateRep\").agg(functions.sum(\"cases\").alias(\"Number of Cases\")).orderBy(\"dateRep\")\n",
    "\n",
    "# iran_data.toPandas().plot.bar(x=\"dateRep\", y=\"Number of Cases\")\n",
    "\n",
    "iran_data= covidDfSpark.filter(covidDfSpark.countriesAndTerritories == 'Iran').groupBy(\"dateRep\", \"year\", \"month\", \"day\").agg(\n",
    "    functions.sum(\"cases\").alias(\"Number of Cases\")).orderBy(functions.col(\"year\").asc(), functions.col(\"month\").asc(), functions.col(\"day\").asc())\n",
    "\n",
    "\n",
    "pd = iran_data.toPandas()\n",
    "pd.plot.scatter(x='dateRep', y='Number of Cases')\n",
    "plt.xticks(rotation=45)\n",
    "plt.scatter()"
   ]
  },
  {
   "cell_type": "code",
   "execution_count": 49,
   "id": "6303c795",
   "metadata": {},
   "outputs": [
    {
     "ename": "NameError",
     "evalue": "name 'iran_cases_2020' is not defined",
     "output_type": "error",
     "traceback": [
      "\u001b[0;31m---------------------------------------------------------------------------\u001b[0m",
      "\u001b[0;31mNameError\u001b[0m                                 Traceback (most recent call last)",
      "Cell \u001b[0;32mIn[49], line 2\u001b[0m\n\u001b[1;32m      1\u001b[0m \u001b[38;5;66;03m# Assuming you have a DataFrame named covidDfSpark\u001b[39;00m\n\u001b[0;32m----> 2\u001b[0m \u001b[43miran_cases_2020\u001b[49m\u001b[38;5;241m.\u001b[39mselect(\u001b[38;5;124m'\u001b[39m\u001b[38;5;124mdate\u001b[39m\u001b[38;5;124m'\u001b[39m)\u001b[38;5;241m.\u001b[39mshow(\u001b[38;5;241m20\u001b[39m)\n",
      "\u001b[0;31mNameError\u001b[0m: name 'iran_cases_2020' is not defined"
     ]
    }
   ],
   "source": [
    "# Assuming you have a DataFrame named covidDfSpark\n",
    "iran_cases_2020.select('date').show(20)"
   ]
  },
  {
   "cell_type": "markdown",
   "id": "30289dbb",
   "metadata": {},
   "source": [
    "\n",
    "<div align=\"right\" dir=\"auto\">\n",
    "   \n",
    "#  اسپارک Shuffle \n",
    "\n",
    "    Spark SQL shuffle مکانیزمی است برای توزیع مجدد یا پارتیشن بندی مجدد داده ها به طوری که داده ها به طور متفاوت در پارتیشن ها گروه بندی می شوند، بر اساس اندازه داده شما ممکن است نیاز باشد تعداد پارتیشن های RDD/DataFrame را با استفاده از اسپارک کاهش یا افزایش دهید.\n",
    "    برای مثال وقتی روی دو dataframe مختلف که روی شبکه توزیع شده اند\n",
    "    دستور join را میزنیم یک عملیات \n",
    "    shuffling انجام میشود\n",
    "    در این قسمت از شما انتظار می‌رود کوئری جوین زیر را نوشته و اجرا کنید همچنین به  صفحه \n",
    "    application master ui\n",
    "    مراجعه کنید و نحوه shuffleing را گزارش کنید . \n",
    "     و همچنین توضیح دهید DAG scheduler  در اسپارک چیست ؟\n",
    " </div>\n",
    "  \n",
    "    \n",
    "\n",
    "  \n",
    "[shuffling in standalone cluster](https://medium.com/@rachit1arora/apache-spark-shuffle-service-there-are-more-than-one-options-c1a8e098230e)\n",
    "\n"
   ]
  },
  {
   "cell_type": "markdown",
   "id": "90a47c58",
   "metadata": {},
   "source": [
    "\n",
    "\n",
    "<div align=\"right\" dir=\"auto\">\n",
    "از desc در PySpark برای مرتب‌سازی نزولی استفاده  کرده و با استفاده از alias یک self-join روی DataFrame covidDfSpark انجام دهید، سپس با گروه‌بندی بر اساس ستون a.continentExp از داده‌های پیوسته، تعداد وقوع‌ها شمرده شده و نتایج نمایش دهید. \n",
    "</div>\n",
    "\n"
   ]
  },
  {
   "cell_type": "code",
   "execution_count": 51,
   "id": "c753b626",
   "metadata": {},
   "outputs": [
    {
     "name": "stderr",
     "output_type": "stream",
     "text": [
      "2024-01-13 12:03:47,923 WARN scheduler.TaskSetManager: Stage 83 contains a task of very large size (1650 KiB). The maximum recommended task size is 1000 KiB.\n",
      "2024-01-13 12:03:48,077 WARN scheduler.TaskSetManager: Stage 84 contains a task of very large size (1650 KiB). The maximum recommended task size is 1000 KiB.\n",
      "[Stage 97:=======================================================>(74 + 1) / 75]\r"
     ]
    },
    {
     "name": "stdout",
     "output_type": "stream",
     "text": [
      "+------------+------------+\n",
      "|continentExp|  TotalCases|\n",
      "+------------+------------+\n",
      "|      Europe|371761008464|\n",
      "|      Africa| 35652188287|\n",
      "|       Other|       44544|\n",
      "|     Oceania|   133600000|\n",
      "|     America|424457303006|\n",
      "|        Asia|222211071086|\n",
      "+------------+------------+\n",
      "\n"
     ]
    },
    {
     "name": "stderr",
     "output_type": "stream",
     "text": [
      "                                                                                \r"
     ]
    }
   ],
   "source": [
    "# to -do\n",
    "desc_covid = covidDfSpark.orderBy(functions.desc(\"continentExp\"))\n",
    "joined_df = desc_covid.alias(\"a\").join(desc_covid.alias(\"b\"), \"continentExp\")\n",
    "joined_df.groupBy(\"a.continentExp\").agg(functions.sum(\"a.cases\").alias(\"TotalCases\")).show()"
   ]
  },
  {
   "cell_type": "code",
   "execution_count": 52,
   "id": "cadb9e10",
   "metadata": {},
   "outputs": [],
   "source": [
    "import time\n",
    "\n",
    "epochNow = int(time.time())"
   ]
  },
  {
   "cell_type": "markdown",
   "id": "78587ca7",
   "metadata": {},
   "source": [
    "<div align=\"right\" dir=\"auto\">\n",
    "نوشتن یکDataFrame به عنوان یک فایل parquet در HDFS\n",
    " \n",
    " </div>"
   ]
  },
  {
   "cell_type": "code",
   "execution_count": 53,
   "id": "fc00fa28",
   "metadata": {},
   "outputs": [
    {
     "name": "stderr",
     "output_type": "stream",
     "text": [
      "2024-01-13 12:04:56,867 WARN scheduler.TaskSetManager: Stage 98 contains a task of very large size (1650 KiB). The maximum recommended task size is 1000 KiB.\n",
      "                                                                                \r"
     ]
    },
    {
     "name": "stdout",
     "output_type": "stream",
     "text": [
      "Covid Dataframe stored in Hadoop.\n"
     ]
    }
   ],
   "source": [
    "covidDfSpark.write.parquet(\"hdfs://namenode:8020/covid/{}_{}.parquet\".format(csvName,epochNow))\n",
    "print(\"Covid Dataframe stored in Hadoop.\")"
   ]
  },
  {
   "cell_type": "code",
   "execution_count": 54,
   "id": "3c42d68a",
   "metadata": {},
   "outputs": [
    {
     "name": "stdout",
     "output_type": "stream",
     "text": [
      "Covid Dataframe read from Hadoop : \n",
      "+----------+---+-----+----+-----+------+-----------------------+-----+--------------------+-----------+------------+----------------------------------------------------------+\n",
      "|   dateRep|day|month|year|cases|deaths|countriesAndTerritories|geoId|countryterritoryCode|popData2019|continentExp|Cumulative_number_for_14_days_of_COVID-19_cases_per_100000|\n",
      "+----------+---+-----+----+-----+------+-----------------------+-----+--------------------+-----------+------------+----------------------------------------------------------+\n",
      "|08/09/2020|  8|    9|2020|   80|     1|             Kazakhstan|   KZ|                 KAZ|1.8551428E7|        Asia|                                               36.33682539|\n",
      "|07/09/2020|  7|    9|2020|  199|     1|             Kazakhstan|   KZ|                 KAZ|1.8551428E7|        Asia|                                               35.90559174|\n",
      "|06/09/2020|  6|    9|2020|  896|     8|             Kazakhstan|   KZ|                 KAZ|1.8551428E7|        Asia|                                               36.22901698|\n",
      "|05/09/2020|  5|    9|2020|  104|     0|             Kazakhstan|   KZ|                 KAZ|1.8551428E7|        Asia|                                                36.5740039|\n",
      "|04/09/2020|  4|    9|2020|  570|     4|             Kazakhstan|   KZ|                 KAZ|1.8551428E7|        Asia|                                               40.90790208|\n",
      "|03/09/2020|  3|    9|2020|  659|     6|             Kazakhstan|   KZ|                 KAZ|1.8551428E7|        Asia|                                               43.11258411|\n",
      "|02/09/2020|  2|    9|2020|   99|    68|             Kazakhstan|   KZ|                 KAZ|1.8551428E7|        Asia|                                               45.11782058|\n",
      "|01/09/2020|  1|    9|2020|  923|    34|             Kazakhstan|   KZ|                 KAZ|1.8551428E7|        Asia|                                               51.87201762|\n",
      "|31/08/2020| 31|    8|2020|    0|     0|             Kazakhstan|   KZ|                 KAZ|1.8551428E7|        Asia|                                               48.69705987|\n",
      "|30/08/2020| 30|    8|2020|  633|     0|             Kazakhstan|   KZ|                 KAZ|1.8551428E7|        Asia|                                               51.27368093|\n",
      "|29/08/2020| 29|    8|2020| 1422|     0|             Kazakhstan|   KZ|                 KAZ|1.8551428E7|        Asia|                                               55.30032513|\n",
      "|28/08/2020| 28|    8|2020|  954|     0|             Kazakhstan|   KZ|                 KAZ|1.8551428E7|        Asia|                                               54.46480993|\n",
      "|27/08/2020| 27|    8|2020|  202|     0|             Kazakhstan|   KZ|                 KAZ|1.8551428E7|        Asia|                                               56.92284173|\n",
      "|26/08/2020| 26|    8|2020|    0|     0|             Kazakhstan|   KZ|                 KAZ|1.8551428E7|        Asia|                                               63.86031307|\n",
      "|25/08/2020| 25|    8|2020|    0|   108|             Kazakhstan|   KZ|                 KAZ|1.8551428E7|        Asia|                                               75.25566226|\n",
      "|24/08/2020| 24|    8|2020|  259|     2|             Kazakhstan|   KZ|                 KAZ|1.8551428E7|        Asia|                                               79.45479992|\n",
      "|23/08/2020| 23|    8|2020|  960|     8|             Kazakhstan|   KZ|                 KAZ|1.8551428E7|        Asia|                                               82.91005954|\n",
      "|22/08/2020| 22|    8|2020|  908|     5|             Kazakhstan|   KZ|                 KAZ|1.8551428E7|        Asia|                                               87.88541777|\n",
      "|21/08/2020| 21|    8|2020|  979|     6|             Kazakhstan|   KZ|                 KAZ|1.8551428E7|        Asia|                                               93.82027087|\n",
      "|20/08/2020| 20|    8|2020| 1031|     6|             Kazakhstan|   KZ|                 KAZ|1.8551428E7|        Asia|                                              101.50162025|\n",
      "+----------+---+-----+----+-----+------+-----------------------+-----+--------------------+-----------+------------+----------------------------------------------------------+\n",
      "only showing top 20 rows\n",
      "\n"
     ]
    }
   ],
   "source": [
    "# Read from HDFS to confirm it was successfully stored\n",
    "\n",
    "df_load = spark.read.parquet(\"hdfs://namenode:8020/covid/{}_{}.parquet\".format(csvName,epochNow))\n",
    "print(\"Covid Dataframe read from Hadoop : \")\n",
    "df_load.show()"
   ]
  },
  {
   "cell_type": "markdown",
   "id": "41605c47",
   "metadata": {},
   "source": [
    "\n",
    "<div align=\"right\" dir=\"auto\">\n",
    "   \n",
    "#  دیتاست دوم(پترن‌های باکتری Ecoli)\n",
    " </div>\n",
    "  "
   ]
  },
  {
   "cell_type": "code",
   "execution_count": 55,
   "id": "1dfd601e",
   "metadata": {},
   "outputs": [],
   "source": [
    "# Create a new SparkSession\n",
    "spark2 = SparkSession.builder.appName('spark-notebook-2').master('spark://spark-master:7077').getOrCreate()\n",
    "\n",
    "# Create the schema\n",
    "schema = StructType([\n",
    "    StructField(\"0\", StringType(), True)])"
   ]
  },
  {
   "cell_type": "code",
   "execution_count": 56,
   "id": "94c45994",
   "metadata": {},
   "outputs": [
    {
     "name": "stdout",
     "output_type": "stream",
     "text": [
      "Loading data from text file: ./data/ecoli.txt\n",
      "Loading data from text file: ./data/.ipynb_checkpoints/ecoli-checkpoint.txt\n"
     ]
    }
   ],
   "source": [
    "# The data from covid.csv will be loaded from a local file path\n",
    "for path, subdirs, files in os.walk('./data/'):\n",
    "    for name in files:\n",
    "        if \"ecoli\" in name and name.endswith(\".txt\"):\n",
    "            txtPath = os.path.join(path, name)\n",
    "            print(\"Loading data from text file: {}\".format(txtPath))\n",
    "            # Load the ecoli.txt file\n",
    "            lines_txt = pandas.read_csv(txtPath)"
   ]
  },
  {
   "cell_type": "code",
   "execution_count": 57,
   "id": "a3d8b23a",
   "metadata": {},
   "outputs": [],
   "source": [
    "# Create a new SparkSession\n",
    "spark2 = SparkSession.builder.appName('spark-notebook-2').master('spark://spark-master:7077').getOrCreate()\n",
    "\n",
    "# Create the schema\n",
    "schema = StructType([StructField(\"0\", StringType(), True)])"
   ]
  },
  {
   "cell_type": "code",
   "execution_count": 58,
   "id": "a69c8e84",
   "metadata": {},
   "outputs": [
    {
     "name": "stdout",
     "output_type": "stream",
     "text": [
      "+--------------------+\n",
      "|                   0|\n",
      "+--------------------+\n",
      "|TTCTGAACTGGTTACCT...|\n",
      "|TATAGGCATAGCGCACA...|\n",
      "|ATTACCACCACCATCAC...|\n",
      "|CCCGCACCTGACAGTGC...|\n",
      "|GTTCGGCGGTACATCAG...|\n",
      "|AGGCAGGGGCAGGTGGC...|\n",
      "|AAAAAACCATTAGCGGC...|\n",
      "|GACGGGACTCGCCGCCG...|\n",
      "|GCCCAAATAAAACATGT...|\n",
      "|TGATTTGCCGTGGCGAG...|\n",
      "+--------------------+\n",
      "only showing top 10 rows\n",
      "\n"
     ]
    },
    {
     "name": "stderr",
     "output_type": "stream",
     "text": [
      "2024-01-13 12:05:38,655 WARN scheduler.TaskSetManager: Stage 101 contains a task of very large size (2405 KiB). The maximum recommended task size is 1000 KiB.\n"
     ]
    }
   ],
   "source": [
    "lines_sp = spark2.createDataFrame(lines_txt, schema=schema)\n",
    "# Preview the structure\n",
    "lines_sp.show(10)"
   ]
  },
  {
   "cell_type": "markdown",
   "id": "19ab95b3",
   "metadata": {},
   "source": [
    "<div align=\"right\" dir=\"auto\">\n",
    "   \n",
    "#  اسپارک RDD \n",
    "\n",
    "    \n",
    " </div>\n",
    "  "
   ]
  },
  {
   "cell_type": "markdown",
   "id": "4313bc8c",
   "metadata": {},
   "source": [
    "<div align=\"right\" dir=\"auto\">\n",
    "DataFrame را به RDD تبدیل کنید.\n",
    " </div>"
   ]
  },
  {
   "cell_type": "code",
   "execution_count": 59,
   "id": "9c213d63",
   "metadata": {},
   "outputs": [],
   "source": [
    "# to-do\n",
    "lines_rdd = lines_sp.rdd"
   ]
  },
  {
   "cell_type": "code",
   "execution_count": 60,
   "id": "e914f265",
   "metadata": {},
   "outputs": [
    {
     "data": {
      "text/plain": [
       "PythonRDD[177] at RDD at PythonRDD.scala:53"
      ]
     },
     "execution_count": 60,
     "metadata": {},
     "output_type": "execute_result"
    }
   ],
   "source": [
    "# Define the lengths for patterns (3 and 4)\n",
    "pattern_lengths = [3, 4]\n",
    "lines_rdd = lines_rdd.map(lambda row: row[0])\n",
    "lines_rdd"
   ]
  },
  {
   "cell_type": "code",
   "execution_count": 61,
   "id": "99dfce5f",
   "metadata": {},
   "outputs": [],
   "source": [
    "def line_to_grams(line, length):\n",
    "    ngrams = []\n",
    "    for i in range(len(line) - length + 1):\n",
    "        ngrams.append(line[i : i + length])\n",
    "    return ngrams\n",
    "\n",
    "pattern_lengths = [3, 4]"
   ]
  },
  {
   "cell_type": "markdown",
   "id": "9a06f64e",
   "metadata": {},
   "source": [
    "<div align=\"right\" dir=\"auto\">\n",
    "ایجاد RDD برای هر طول الگو (n-gram):\n",
    " \n",
    "ابتدا یک لیست از RDDهای n-gramها برای هر طول الگو (pattern length) ایجاد کرده.\n",
    "برای هر طول الگو، با استفاده از flatMap بر روی هر خط موجود در مجموعه داده (lines_rdd)، n-gramهای مربوط به طول الگو مورد نظر را ایجاد کرده و به لیستی از RDDها اضافه کنید.\n",
    " </div>\n",
    "  "
   ]
  },
  {
   "cell_type": "code",
   "execution_count": 62,
   "id": "eab66690",
   "metadata": {},
   "outputs": [
    {
     "data": {
      "text/plain": [
       "[PythonRDD[178] at RDD at PythonRDD.scala:53,\n",
       " PythonRDD[179] at RDD at PythonRDD.scala:53]"
      ]
     },
     "execution_count": 62,
     "metadata": {},
     "output_type": "execute_result"
    }
   ],
   "source": [
    "ngrams_rdds = []\n",
    "for length in pattern_lengths:\n",
    "    # to-do\n",
    "    ngram_rdd = lines_rdd.flatMap(lambda x: line_to_grams(x,length))\n",
    "    ngrams_rdds.append(ngram_rdd)\n",
    "ngrams_rdds"
   ]
  },
  {
   "cell_type": "markdown",
   "id": "98ce885c",
   "metadata": {},
   "source": [
    "\n",
    "<div align=\"right\" dir=\"auto\">\n",
    " محاسبه تعداد n-gramها:\n",
    "سپس، برای هر RDD حاصل از مرحله قبل، تعداد تکرارهای هر n-gram را محاسبه کرده.\n",
    "این کار با استفاده از map و reduceByKey بر روی هر n-gram، جفت‌هایی از (n-gram, تعداد تکرار) را ایجاد کرده و سپس نتایج را به یک لیست از RDDها اضافه کرده.\n",
    "در نهایت، دو RDD ایجاد شده داده‌های مربوط به هر طول الگو را در اختیار دارند.\n",
    "     </div>"
   ]
  },
  {
   "cell_type": "code",
   "execution_count": 63,
   "id": "b90623b6",
   "metadata": {},
   "outputs": [
    {
     "data": {
      "text/plain": [
       "[PythonRDD[188] at RDD at PythonRDD.scala:53,\n",
       " PythonRDD[189] at RDD at PythonRDD.scala:53]"
      ]
     },
     "execution_count": 63,
     "metadata": {},
     "output_type": "execute_result"
    }
   ],
   "source": [
    "count_rdds = []\n",
    "for ngrams_rdd, length in zip(ngrams_rdds, pattern_lengths):\n",
    "    # to-do\n",
    "    ngram_count = ngrams_rdd.map(lambda ngram: (ngram, 1))\n",
    "    ngram_reduced = ngram_count.reduceByKey(lambda x,y: x+y)\n",
    "    count_rdds.append(ngram_reduced)\n",
    "count_rdds "
   ]
  },
  {
   "cell_type": "code",
   "execution_count": 64,
   "id": "cfa9e13a",
   "metadata": {},
   "outputs": [
    {
     "name": "stderr",
     "output_type": "stream",
     "text": [
      "2024-01-13 12:05:57,367 WARN scheduler.TaskSetManager: Stage 102 contains a task of very large size (2405 KiB). The maximum recommended task size is 1000 KiB.\n",
      "2024-01-13 12:06:00,630 WARN scheduler.TaskSetManager: Stage 103 contains a task of very large size (2405 KiB). The maximum recommended task size is 1000 KiB.\n",
      "                                                                                \r"
     ]
    }
   ],
   "source": [
    "merged_rdd = count_rdds[0].union(count_rdds[1])\n",
    "dna_patterns = merged_rdd.sortByKey(ascending=False).map(lambda x: f\"{x[1]} {x[0]}\")"
   ]
  },
  {
   "cell_type": "code",
   "execution_count": 65,
   "id": "b6c3a3fe",
   "metadata": {},
   "outputs": [
    {
     "data": {
      "text/plain": [
       "['34049 TTTT',\n",
       " '23436 TTTG',\n",
       " '26181 TTTC',\n",
       " '21450 TTTA',\n",
       " '106672 TTT',\n",
       " '15951 TTGT',\n",
       " '13013 TTGG',\n",
       " '26131 TTGC',\n",
       " '18546 TTGA',\n",
       " '74786 TTG']"
      ]
     },
     "execution_count": 65,
     "metadata": {},
     "output_type": "execute_result"
    }
   ],
   "source": [
    "dna_patterns.take(10)"
   ]
  },
  {
   "cell_type": "code",
   "execution_count": 66,
   "id": "f2e0b4f7",
   "metadata": {},
   "outputs": [
    {
     "data": {
      "text/plain": [
       "PythonRDD[203] at RDD at PythonRDD.scala:53"
      ]
     },
     "execution_count": 66,
     "metadata": {},
     "output_type": "execute_result"
    }
   ],
   "source": [
    "# Split each string into two columns (ngram and count) using space as the delimiter\n",
    "split_rdd = dna_patterns.map(lambda line: line.split())\n",
    "\n",
    "# Create a DataFrame from the RDD with column names\n",
    "columns = [\"pattern\", \"count\"]\n",
    "df = spark2.createDataFrame(split_rdd, columns)\n",
    "split_rdd"
   ]
  },
  {
   "cell_type": "code",
   "execution_count": 67,
   "id": "7d23608c",
   "metadata": {},
   "outputs": [
    {
     "name": "stdout",
     "output_type": "stream",
     "text": [
      "+-------+-----+\n",
      "|pattern|count|\n",
      "+-------+-----+\n",
      "|  34049| TTTT|\n",
      "|  23436| TTTG|\n",
      "|  26181| TTTC|\n",
      "|  21450| TTTA|\n",
      "| 106672|  TTT|\n",
      "|  15951| TTGT|\n",
      "|  13013| TTGG|\n",
      "|  26131| TTGC|\n",
      "|  18546| TTGA|\n",
      "|  74786|  TTG|\n",
      "+-------+-----+\n",
      "only showing top 10 rows\n",
      "\n"
     ]
    }
   ],
   "source": [
    "df.show(10)"
   ]
  },
  {
   "cell_type": "markdown",
   "id": "b4ff9938",
   "metadata": {},
   "source": [
    "\n",
    "<div align=\"right\" dir=\"auto\">\n",
    "   \n",
    "# تابع تعریف شده توسط کاربر(UDF)\n",
    "\n",
    "یکی از مزایای اسپارک این است که نه تنها برای ما یک زبان SQL فراهم کرده که روی چندین سرور به صورت همزمان پردازش را انجام دهد بلکه \n",
    "    میتوان به زبان‌های مختلف توابعی تعریف کرد که روی  همه executor ها اجرا شود   در این بخش از شما انتظار می‌رود که با نوشتن یک UDF به زبان پایتونی    توضیحات  قسمت  قبل را انجام دهید.\n",
    "\n",
    " </div>\n",
    " \n",
    "[pyspark.sql.functions.udf](https://spark.apache.org/docs/3.1.3/api/python/reference/api/pyspark.sql.functions.udf.html)\n",
    "\n",
    "[pyspark.sql.DataFrame.withColumn](https://spark.apache.org/docs/3.1.3/api/python/reference/api/pyspark.sql.DataFrame.withColumn.html)\n",
    "\n",
    "    \n",
    "\n"
   ]
  },
  {
   "cell_type": "code",
   "execution_count": 68,
   "id": "da5a6dd7",
   "metadata": {},
   "outputs": [],
   "source": [
    "def split_string(line):\n",
    "    parts = line.split()  # Splitting assuming space as delimiter\n",
    "    return parts[0], int(parts[1]) if len(parts) > 1 else None"
   ]
  },
  {
   "cell_type": "code",
   "execution_count": 70,
   "id": "5e9d4bcf",
   "metadata": {},
   "outputs": [
    {
     "name": "stdout",
     "output_type": "stream",
     "text": [
      "+-------+-----+------------+\n",
      "|pattern|count|       split|\n",
      "+-------+-----+------------+\n",
      "|  34049| TTTT|{TTTT, null}|\n",
      "|  23436| TTTG|{TTTG, null}|\n",
      "|  26181| TTTC|{TTTC, null}|\n",
      "|  21450| TTTA|{TTTA, null}|\n",
      "| 106672|  TTT| {TTT, null}|\n",
      "|  15951| TTGT|{TTGT, null}|\n",
      "|  13013| TTGG|{TTGG, null}|\n",
      "|  26131| TTGC|{TTGC, null}|\n",
      "|  18546| TTGA|{TTGA, null}|\n",
      "|  74786|  TTG| {TTG, null}|\n",
      "|  17573| TTCT|{TTCT, null}|\n",
      "|  18662| TTCG|{TTCG, null}|\n",
      "|  19054| TTCC|{TTCC, null}|\n",
      "|  24946| TTCA|{TTCA, null}|\n",
      "|  81445|  TTC| {TTC, null}|\n",
      "|  21075| TTAT|{TTAT, null}|\n",
      "|   7134| TTAG|{TTAG, null}|\n",
      "|  17324| TTAC|{TTAC, null}|\n",
      "|  20281| TTAA|{TTAA, null}|\n",
      "|  66824|  TTA| {TTA, null}|\n",
      "+-------+-----+------------+\n",
      "only showing top 20 rows\n",
      "\n"
     ]
    }
   ],
   "source": [
    "from pyspark.sql.functions import col\n",
    "from pyspark.sql.functions import udf\n",
    "\n",
    "# Define the UDF to split the string into two columns\n",
    "# to-do\n",
    "schema = StructType([\n",
    "    StructField(\"pattern\", StringType(), True),\n",
    "    StructField(\"count\", IntegerType(), True)\n",
    "])\n",
    "\n",
    "split_string_udf = udf(split_string, schema)\n",
    "\n",
    "# Apply the UDF to create separate columns\n",
    "df_with_split = df.withColumn(\"split\", split_string_udf(df[\"count\"]))\n",
    "\n",
    "# Show the resulting DataFrame\n",
    "# to-do\n",
    "df_with_split.show()"
   ]
  },
  {
   "cell_type": "code",
   "execution_count": null,
   "id": "8377a8fc",
   "metadata": {},
   "outputs": [],
   "source": []
  }
 ],
 "metadata": {
  "kernelspec": {
   "display_name": "Python 3 (ipykernel)",
   "language": "python",
   "name": "python3"
  },
  "language_info": {
   "codemirror_mode": {
    "name": "ipython",
    "version": 3
   },
   "file_extension": ".py",
   "mimetype": "text/x-python",
   "name": "python",
   "nbconvert_exporter": "python",
   "pygments_lexer": "ipython3",
   "version": "3.8.10"
  }
 },
 "nbformat": 4,
 "nbformat_minor": 5
}
